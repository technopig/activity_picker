{
 "cells": [
  {
   "cell_type": "code",
   "execution_count": 1,
   "id": "257db068",
   "metadata": {},
   "outputs": [],
   "source": [
    "from bs4 import BeautifulSoup\n",
    "import requests\n",
    "import re"
   ]
  },
  {
   "cell_type": "code",
   "execution_count": 2,
   "id": "f15cfc82",
   "metadata": {},
   "outputs": [],
   "source": [
    "avy_page = requests.get(\"https://www.avalanche.state.co.us/caic/pub_bc_avo.php?zone_id=1\").content"
   ]
  },
  {
   "cell_type": "code",
   "execution_count": 3,
   "id": "8bb1f589",
   "metadata": {},
   "outputs": [],
   "source": [
    "avy_soup = BeautifulSoup(avy_page, 'html.parser')"
   ]
  },
  {
   "cell_type": "code",
   "execution_count": 4,
   "id": "6ab63eb1",
   "metadata": {},
   "outputs": [],
   "source": [
    "result = avy_soup.find(id='avalanche-forecast')"
   ]
  },
  {
   "cell_type": "code",
   "execution_count": 5,
   "id": "e0694cf2",
   "metadata": {},
   "outputs": [],
   "source": [
    "danger_elems = result.find_all('td', class_='today-text')\n",
    "summary = str(result.find('div', class_='row').find_all('p')[0])[3:-4]"
   ]
  },
  {
   "cell_type": "code",
   "execution_count": 6,
   "id": "0c441c68",
   "metadata": {},
   "outputs": [],
   "source": [
    "tomorrow_above = str(danger_elems[1].find('strong'))\n",
    "tomorrow_near = str(danger_elems[3].find('strong'))\n",
    "tomorrow_below = str(danger_elems[5].find('strong'))\n",
    "tomorrow_above = int(re.search(r\"\\(([A-Za-z0-9_]+)\\)\", tomorrow_above).group(1))\n",
    "tomorrow_near = int(re.search(r\"\\(([A-Za-z0-9_]+)\\)\", tomorrow_near).group(1))\n",
    "tomorrow_below = int(re.search(r\"\\(([A-Za-z0-9_]+)\\)\", tomorrow_below).group(1))"
   ]
  },
  {
   "cell_type": "code",
   "execution_count": 7,
   "id": "a893e07d",
   "metadata": {},
   "outputs": [
    {
     "name": "stdout",
     "output_type": "stream",
     "text": [
      "--------------------------\n",
      "  FRONT RANGE - COLORADO\n",
      "--------------------------\n",
      "Tomorrow - above: \t2\n",
      "Tomorrow - near: \t1\n",
      "Tomorrow - below: \t1\n",
      "--------------------------\n",
      "\n",
      "\n",
      "\n",
      "  1  |    2     |      3       |  4   |    5    \n",
      " --- | -------- | ------------ | ---- | ------- \n",
      " LOW | MODERATE | CONSIDERABLE | HIGH | EXTREME \n",
      "\n",
      "\n",
      "\n",
      "You can trigger a dry slab avalanche at upper elevations on north, northeast, and east-facing slopes. These will likely break deeper in wind-loaded terrain features. Most recent avalanches have run on a layer of weak faceted snow buried around 1 to 2 feet deep, just above a dirty brown crust. Dig down to investigate the snowpack before committing to steeper alpine terrain, or simply avoid steep wind-loaded alpine slopes. In the afternoon, expect the typical springtime wet snow concerns to develop at lower elevations. Start early to end early.\n",
      "\n",
      "\n",
      "\n",
      "https://www.avalanche.state.co.us/forecasts/backcountry-avalanche/front-range/\n"
     ]
    }
   ],
   "source": [
    "print(\"--------------------------\")\n",
    "print(\"  FRONT RANGE - COLORADO\")\n",
    "print(\"--------------------------\")\n",
    "print(f\"Tomorrow - above: \\t{tomorrow_above}\")\n",
    "print(f\"Tomorrow - near: \\t{tomorrow_near}\")\n",
    "print(f\"Tomorrow - below: \\t{tomorrow_below}\")\n",
    "print(\"--------------------------\")\n",
    "print(\"\\n\\n\")\n",
    "print(\"  1  |    2     |      3       |  4   |    5    \")\n",
    "print(\" --- | -------- | ------------ | ---- | ------- \")\n",
    "print(\" LOW | MODERATE | CONSIDERABLE | HIGH | EXTREME \")\n",
    "print(\"\\n\\n\")\n",
    "print(summary)\n",
    "print(\"\\n\\n\")\n",
    "print(\"https://www.avalanche.state.co.us/forecasts/backcountry-avalanche/front-range/\")"
   ]
  },
  {
   "cell_type": "code",
   "execution_count": null,
   "id": "cb5f520a",
   "metadata": {},
   "outputs": [],
   "source": []
  }
 ],
 "metadata": {
  "kernelspec": {
   "display_name": "Python 3",
   "language": "python",
   "name": "python3"
  },
  "language_info": {
   "codemirror_mode": {
    "name": "ipython",
    "version": 3
   },
   "file_extension": ".py",
   "mimetype": "text/x-python",
   "name": "python",
   "nbconvert_exporter": "python",
   "pygments_lexer": "ipython3",
   "version": "3.9.1"
  }
 },
 "nbformat": 4,
 "nbformat_minor": 5
}
