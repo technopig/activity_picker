{
 "cells": [
  {
   "cell_type": "code",
   "execution_count": 1,
   "id": "257db068",
   "metadata": {},
   "outputs": [],
   "source": [
    "from bs4 import BeautifulSoup\n",
    "import requests\n",
    "import re"
   ]
  },
  {
   "cell_type": "code",
   "execution_count": 2,
   "id": "f15cfc82",
   "metadata": {},
   "outputs": [],
   "source": [
    "avy_page = requests.get(\"https://www.avalanche.state.co.us/caic/pub_bc_avo.php?zone_id=1\").content"
   ]
  },
  {
   "cell_type": "code",
   "execution_count": 3,
   "id": "8bb1f589",
   "metadata": {},
   "outputs": [],
   "source": [
    "avy_soup = BeautifulSoup(avy_page, 'html.parser')"
   ]
  },
  {
   "cell_type": "code",
   "execution_count": 4,
   "id": "6ab63eb1",
   "metadata": {},
   "outputs": [],
   "source": [
    "result = avy_soup.find(id='avalanche-forecast')"
   ]
  },
  {
   "cell_type": "code",
   "execution_count": 5,
   "id": "e0694cf2",
   "metadata": {},
   "outputs": [],
   "source": [
    "danger_elems = result.find_all('td', class_='today-text')\n",
    "summary = str(result.find('div', class_='row').find_all('p')[0])[3:-4]"
   ]
  },
  {
   "cell_type": "code",
   "execution_count": 6,
   "id": "0c441c68",
   "metadata": {},
   "outputs": [],
   "source": [
    "tomorrow_above = str(danger_elems[1].find('strong'))\n",
    "tomorrow_near = str(danger_elems[3].find('strong'))\n",
    "tomorrow_below = str(danger_elems[5].find('strong'))\n",
    "tomorrow_above = int(re.search(r\"\\(([A-Za-z0-9_]+)\\)\", tomorrow_above).group(1))\n",
    "tomorrow_near = int(re.search(r\"\\(([A-Za-z0-9_]+)\\)\", tomorrow_near).group(1))\n",
    "tomorrow_below = int(re.search(r\"\\(([A-Za-z0-9_]+)\\)\", tomorrow_below).group(1))"
   ]
  },
  {
   "cell_type": "code",
   "execution_count": 7,
   "id": "a893e07d",
   "metadata": {},
   "outputs": [
    {
     "name": "stdout",
     "output_type": "stream",
     "text": [
      "--------------------------\n",
      "  FRONT RANGE - COLORADO\n",
      "--------------------------\n",
      "Tomorrow - above: \t2\n",
      "Tomorrow - near: \t1\n",
      "Tomorrow - below: \t1\n",
      "--------------------------\n",
      "\n",
      "\n",
      "\n",
      "  1  |    2     |      3       |  4   |    5    \n",
      " --- | -------- | ------------ | ---- | ------- \n",
      " LOW | MODERATE | CONSIDERABLE | HIGH | EXTREME \n",
      "\n",
      "\n",
      "\n",
      "Avalanche conditions are generally safe but you can still trigger small avalanches in extreme terrain. Small avalanches in very steep terrain can lead to serious consequences. If you choose to ride this type of terrain, you will need to watch out for a few things. Any uptick in winds can result in drifting snow and small slabs forming near ridgetop. Watch for shooting cracks in any drifted snow and be wary of a hollow sounding upper snowpack or thick, firm slabs over softer layers. In areas with no wind be conscious of unconsolidated loose, dry snow that can sluff in very steep terrain.\n",
      "\n",
      "\n",
      "\n",
      "https://www.avalanche.state.co.us/forecasts/backcountry-avalanche/front-range/\n"
     ]
    }
   ],
   "source": [
    "print(\"--------------------------\")\n",
    "print(\"  FRONT RANGE - COLORADO\")\n",
    "print(\"--------------------------\")\n",
    "print(f\"Tomorrow - above: \\t{tomorrow_above}\")\n",
    "print(f\"Tomorrow - near: \\t{tomorrow_near}\")\n",
    "print(f\"Tomorrow - below: \\t{tomorrow_below}\")\n",
    "print(\"--------------------------\")\n",
    "print(\"\\n\\n\")\n",
    "print(\"  1  |    2     |      3       |  4   |    5    \")\n",
    "print(\" --- | -------- | ------------ | ---- | ------- \")\n",
    "print(\" LOW | MODERATE | CONSIDERABLE | HIGH | EXTREME \")\n",
    "print(\"\\n\\n\")\n",
    "print(summary)\n",
    "print(\"\\n\\n\")\n",
    "print(\"https://www.avalanche.state.co.us/forecasts/backcountry-avalanche/front-range/\")"
   ]
  }
 ],
 "metadata": {
  "kernelspec": {
   "display_name": "Python 3",
   "language": "python",
   "name": "python3"
  },
  "language_info": {
   "codemirror_mode": {
    "name": "ipython",
    "version": 3
   },
   "file_extension": ".py",
   "mimetype": "text/x-python",
   "name": "python",
   "nbconvert_exporter": "python",
   "pygments_lexer": "ipython3",
   "version": "3.9.1"
  }
 },
 "nbformat": 4,
 "nbformat_minor": 5
}
