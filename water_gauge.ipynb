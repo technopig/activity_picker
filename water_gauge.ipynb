{
 "cells": [
  {
   "cell_type": "code",
   "execution_count": 1,
   "id": "47367641",
   "metadata": {},
   "outputs": [
    {
     "name": "stdout",
     "output_type": "stream",
     "text": [
      "Requirement already satisfied: datetime in ./venv/lib/python3.9/site-packages (4.3)\r\n",
      "Requirement already satisfied: zope.interface in ./venv/lib/python3.9/site-packages (from datetime) (5.4.0)\r\n",
      "Requirement already satisfied: pytz in ./venv/lib/python3.9/site-packages (from datetime) (2021.1)\r\n",
      "Requirement already satisfied: setuptools in ./venv/lib/python3.9/site-packages (from zope.interface->datetime) (49.2.1)\r\n"
     ]
    }
   ],
   "source": [
    "!pip install datetime"
   ]
  },
  {
   "cell_type": "code",
   "execution_count": 16,
   "id": "955c0943",
   "metadata": {},
   "outputs": [],
   "source": [
    "import hydrofunctions as hf\n",
    "from datetime import date, timedelta\n",
    "import datetime\n",
    "import json"
   ]
  },
  {
   "cell_type": "code",
   "execution_count": 7,
   "id": "2282577f",
   "metadata": {},
   "outputs": [],
   "source": [
    "%matplotlib inline"
   ]
  },
  {
   "cell_type": "code",
   "execution_count": 17,
   "id": "3edaa608",
   "metadata": {},
   "outputs": [],
   "source": [
    "creek_water_gauge_num = '06730200'\n",
    "# Boulder Creek at 75th - https://waterdata.usgs.gov/nwis/inventory?agency_code=USGS&site_no=06730200"
   ]
  },
  {
   "cell_type": "code",
   "execution_count": 9,
   "id": "6655f08b",
   "metadata": {},
   "outputs": [
    {
     "name": "stdout",
     "output_type": "stream",
     "text": [
      "2021-04-17\n",
      "2021-04-16\n",
      "2021-04-15\n"
     ]
    }
   ],
   "source": [
    "today = datetime.datetime.now().strftime('%Y-%m-%d')\n",
    "print(today)\n",
    "\n",
    "yesterday = date.today() - timedelta(days=1)\n",
    "yesterday = yesterday.strftime('%Y-%m-%d')\n",
    "print(yesterday)\n",
    "\n",
    "two_days_ago = date.today() - timedelta(days=2)\n",
    "two_days_ago = two_days_ago.strftime('%Y-%m-%d')\n",
    "print(two_days_ago)"
   ]
  },
  {
   "cell_type": "code",
   "execution_count": 10,
   "id": "5670d2cd",
   "metadata": {},
   "outputs": [
    {
     "data": {
      "text/plain": [
       "<hydrofunctions.station.NWIS at 0x7ffd0b15eeb0>"
      ]
     },
     "execution_count": 10,
     "metadata": {},
     "output_type": "execute_result"
    }
   ],
   "source": [
    "start = two_days_ago\n",
    "end = yesterday\n",
    "\n",
    "herring = hf.NWIS(creek_water_gauge_num, 'dv', start, end)\n",
    "herring.get_data()"
   ]
  },
  {
   "cell_type": "code",
   "execution_count": 11,
   "id": "0bef5a6e",
   "metadata": {},
   "outputs": [
    {
     "data": {
      "text/plain": [
       "<AxesSubplot:xlabel='datetime'>"
      ]
     },
     "execution_count": 11,
     "metadata": {},
     "output_type": "execute_result"
    },
    {
     "data": {
      "image/png": "[encoded data removed]",
      "text/plain": [
       "<Figure size 432x288 with 1 Axes>"
      ]
     },
     "metadata": {
      "needs_background": "light"
     },
     "output_type": "display_data"
    }
   ],
   "source": [
    "herring.df().plot()"
   ]
  },
  {
   "cell_type": "code",
   "execution_count": 12,
   "id": "d3e55310",
   "metadata": {},
   "outputs": [
    {
     "name": "stdout",
     "output_type": "stream",
     "text": [
      "Yesterday: 31.8\n",
      "Two days ago: 14.7\n",
      "Difference = 17.1 cfs (positive numbers mean rising cfs)\n"
     ]
    }
   ],
   "source": [
    "cfs_yesterday = float(herring.json()['value']['timeSeries'][0]['values'][0]['value'][1]['value'])\n",
    "cfs_two_days_ago = float(herring.json()['value']['timeSeries'][0]['values'][0]['value'][0]['value'])\n",
    "print(f\"Yesterday: {cfs_yesterday}\")\n",
    "print(f\"Two days ago: {cfs_two_days_ago}\")\n",
    "diff = cfs_yesterday - cfs_two_days_ago\n",
    "print(f\"Difference = {round(diff,1)} cfs (positive numbers mean rising cfs)\")"
   ]
  },
  {
   "cell_type": "markdown",
   "id": "921fa75d",
   "metadata": {},
   "source": [
    "# Goal is 100 - 300 CFS\n",
    "\n",
    "From https://www.bouldercoloradousa.com/things-to-do/insider-guides/boulder-creek/#:~:text=The%20ideal%20level%20for%20tubing,water%20levels%20are%20above%20300cfs\n",
    "\n",
    "I'm thinking 40 is too low for us locals to have fun.\n",
    "\n",
    "Then the CFS today is (roughly) `cfs_yesterday + diff` so the CFS tomorrow is `cfs_yesterday + 2*diff`"
   ]
  },
  {
   "cell_type": "code",
   "execution_count": 18,
   "id": "bdf9f29f",
   "metadata": {},
   "outputs": [
    {
     "name": "stdout",
     "output_type": "stream",
     "text": [
      "CFS Tomorrow will be around 66.0:\n",
      "\t- Too low.\n"
     ]
    }
   ],
   "source": [
    "MAX_CFS = 300\n",
    "MIN_CFS = 100\n",
    "cfs_tomorrow = cfs_yesterday + 2*diff\n",
    "print(f\"CFS Tomorrow will be around {cfs_tomorrow}:\")\n",
    "if (MAX_CFS > cfs_tomorrow > MIN_CFS):\n",
    "    print(\"\\t- Just right.\")\n",
    "elif (cfs_tomorrow < MIN_CFS):\n",
    "    print(\"\\t- Too low.\")\n",
    "elif (cfs_tomorrow > MAX_CFS):\n",
    "    print(\"\\t- Too high.\")\n",
    "else:\n",
    "    print(\"\\tThere's something wrong with your logic if you're seeing this.\")"
   ]
  },
  {
   "cell_type": "code",
   "execution_count": null,
   "id": "38e04dc6",
   "metadata": {},
   "outputs": [],
   "source": []
  }
 ],
 "metadata": {
  "kernelspec": {
   "display_name": "Python 3",
   "language": "python",
   "name": "python3"
  },
  "language_info": {
   "codemirror_mode": {
    "name": "ipython",
    "version": 3
   },
   "file_extension": ".py",
   "mimetype": "text/x-python",
   "name": "python",
   "nbconvert_exporter": "python",
   "pygments_lexer": "ipython3",
   "version": "3.9.2"
  }
 },
 "nbformat": 4,
 "nbformat_minor": 5
}
