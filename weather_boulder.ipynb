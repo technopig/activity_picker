{
 "cells": [
  {
   "cell_type": "code",
   "execution_count": 96,
   "id": "45d57c45",
   "metadata": {},
   "outputs": [],
   "source": [
    "import requests\n",
    "import json\n",
    "from datetime import date, timedelta, datetime\n",
    "from matplotlib import pyplot as plt"
   ]
  },
  {
   "cell_type": "code",
   "execution_count": 4,
   "id": "1c82ca59",
   "metadata": {},
   "outputs": [],
   "source": [
    "BOULDER_COORDINATES = \"40.0338,-105.2561\"\n",
    "API_URL = \"https://api.weather.gov/points/\"\n",
    "BOULDER_URL = API_URL + BOULDER_COORDINATES"
   ]
  },
  {
   "cell_type": "code",
   "execution_count": 11,
   "id": "c238393e",
   "metadata": {},
   "outputs": [],
   "source": [
    "%matplotlib inline"
   ]
  },
  {
   "cell_type": "code",
   "execution_count": 38,
   "id": "a3780e75",
   "metadata": {},
   "outputs": [
    {
     "name": "stdout",
     "output_type": "stream",
     "text": [
      "https://api.weather.gov/gridpoints/BOU/54,75/forecast/hourly\n"
     ]
    }
   ],
   "source": [
    "overview_page = json.loads(requests.get(BOULDER_URL).text)\n",
    "hourly_target_url = json.dumps(page['properties']['forecastHourly'], indent=4)[1:-1]\n",
    "forecast_page = json.loads(requests.get(hourly_target_url).text)\n",
    "print(hourly_target_url)\n",
    "hourly_forecast = forecast_page['properties']['periods']"
   ]
  },
  {
   "cell_type": "code",
   "execution_count": 128,
   "id": "56bf5374",
   "metadata": {},
   "outputs": [],
   "source": [
    "tomorrow = datetime.today() + timedelta(days=1)"
   ]
  },
  {
   "cell_type": "code",
   "execution_count": 133,
   "id": "090d3bdc",
   "metadata": {},
   "outputs": [],
   "source": [
    "temps = []\n",
    "winds = []\n",
    "for h in hourly_forecast:\n",
    "    hour_dt = datetime.strptime(h['startTime'][:-9], '%Y-%m-%dT%H:%M')\n",
    "    if hour_dt.date() == tomorrow.date():\n",
    "#         print(hour_dt)\n",
    "#         print(f\"Temperature: {h['temperature']}\")\n",
    "#         print(f\"Wind Speed: {h['windSpeed'].split()[0]}\")\n",
    "        temps.append(int(h['temperature']))\n",
    "        winds.append(int(h['windSpeed'].split()[0]))"
   ]
  },
  {
   "cell_type": "code",
   "execution_count": 134,
   "id": "31448f29",
   "metadata": {},
   "outputs": [
    {
     "name": "stdout",
     "output_type": "stream",
     "text": [
      "[30, 28, 27, 26, 24, 24, 25, 29, 34, 39, 44, 47, 50, 52, 53, 55, 56, 56, 54, 50, 45, 40, 37, 36]\n",
      "[6, 6, 6, 6, 7, 7, 6, 6, 5, 3, 3, 5, 6, 6, 6, 7, 6, 6, 7, 7, 7, 7, 7, 7]\n",
      "\n",
      "\n",
      "Min/Max temp: 24/56\n",
      "Max wind: 7\n"
     ]
    }
   ],
   "source": [
    "print(temps)\n",
    "print(winds)\n",
    "print('\\n')\n",
    "print(f\"Min/Max temp: {min(temps)}/{max(temps)}\")\n",
    "print(f\"Max wind: {max(winds)}\")"
   ]
  },
  {
   "cell_type": "code",
   "execution_count": 135,
   "id": "181c3ad3",
   "metadata": {},
   "outputs": [
    {
     "data": {
      "image/png": "[encoded data removed]",
      "text/plain": [
       "<Figure size 432x288 with 1 Axes>"
      ]
     },
     "metadata": {
      "needs_background": "light"
     },
     "output_type": "display_data"
    }
   ],
   "source": [
    "plt.plot(temps)\n",
    "plt.plot(winds)\n",
    "plt.show()"
   ]
  },
  {
   "cell_type": "code",
   "execution_count": null,
   "id": "6c2ef13e",
   "metadata": {},
   "outputs": [],
   "source": []
  }
 ],
 "metadata": {
  "kernelspec": {
   "display_name": "Python 3",
   "language": "python",
   "name": "python3"
  },
  "language_info": {
   "codemirror_mode": {
    "name": "ipython",
    "version": 3
   },
   "file_extension": ".py",
   "mimetype": "text/x-python",
   "name": "python",
   "nbconvert_exporter": "python",
   "pygments_lexer": "ipython3",
   "version": "3.9.2"
  }
 },
 "nbformat": 4,
 "nbformat_minor": 5
}
