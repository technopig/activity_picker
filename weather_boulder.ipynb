{
 "cells": [
  {
   "cell_type": "code",
   "execution_count": 1,
   "id": "45d57c45",
   "metadata": {},
   "outputs": [],
   "source": [
    "import requests\n",
    "import json\n",
    "from datetime import date, timedelta, datetime\n",
    "from matplotlib import pyplot as plt"
   ]
  },
  {
   "cell_type": "code",
   "execution_count": 2,
   "id": "1c82ca59",
   "metadata": {},
   "outputs": [],
   "source": [
    "BOULDER_COORDINATES = \"40.0338,-105.2561\"\n",
    "API_URL = \"https://api.weather.gov/points/\"\n",
    "BOULDER_URL = API_URL + BOULDER_COORDINATES"
   ]
  },
  {
   "cell_type": "code",
   "execution_count": 3,
   "id": "c238393e",
   "metadata": {},
   "outputs": [],
   "source": [
    "%matplotlib inline"
   ]
  },
  {
   "cell_type": "code",
   "execution_count": 5,
   "id": "a3780e75",
   "metadata": {},
   "outputs": [
    {
     "name": "stdout",
     "output_type": "stream",
     "text": [
      "https://api.weather.gov/gridpoints/BOU/54,75/forecast/hourly\n"
     ]
    }
   ],
   "source": [
    "overview_page = json.loads(requests.get(BOULDER_URL).text)\n",
    "hourly_target_url = json.dumps(overview_page['properties']['forecastHourly'], indent=4)[1:-1]\n",
    "forecast_page = json.loads(requests.get(hourly_target_url).text)\n",
    "print(hourly_target_url)\n",
    "hourly_forecast = forecast_page['properties']['periods']"
   ]
  },
  {
   "cell_type": "code",
   "execution_count": 6,
   "id": "56bf5374",
   "metadata": {},
   "outputs": [],
   "source": [
    "tomorrow = datetime.today() + timedelta(days=1)"
   ]
  },
  {
   "cell_type": "code",
   "execution_count": 7,
   "id": "090d3bdc",
   "metadata": {},
   "outputs": [],
   "source": [
    "temps = []\n",
    "winds = []\n",
    "for h in hourly_forecast:\n",
    "    hour_dt = datetime.strptime(h['startTime'][:-9], '%Y-%m-%dT%H:%M')\n",
    "    if hour_dt.date() == tomorrow.date():\n",
    "#         print(hour_dt)\n",
    "#         print(f\"Temperature: {h['temperature']}\")\n",
    "#         print(f\"Wind Speed: {h['windSpeed'].split()[0]}\")\n",
    "        temps.append(int(h['temperature']))\n",
    "        winds.append(int(h['windSpeed'].split()[0]))"
   ]
  },
  {
   "cell_type": "code",
   "execution_count": 8,
   "id": "31448f29",
   "metadata": {},
   "outputs": [
    {
     "name": "stdout",
     "output_type": "stream",
     "text": [
      "[52, 51, 50, 48, 46, 43, 43, 45, 49, 53, 55, 57, 56, 55, 53, 51, 49, 48, 46, 45, 46, 45, 44, 43]\n",
      "[7, 7, 8, 8, 8, 8, 8, 7, 6, 6, 6, 7, 7, 6, 7, 9, 10, 10, 10, 9, 7, 7, 6, 6]\n",
      "\n",
      "\n",
      "Min/Max temp: 43/57\n",
      "Max wind: 10\n"
     ]
    }
   ],
   "source": [
    "print(temps)\n",
    "print(winds)\n",
    "print('\\n')\n",
    "print(f\"Min/Max temp: {min(temps)}/{max(temps)}\")\n",
    "print(f\"Max wind: {max(winds)}\")"
   ]
  },
  {
   "cell_type": "code",
   "execution_count": 9,
   "id": "181c3ad3",
   "metadata": {},
   "outputs": [
    {
     "data": {
      "image/png": "[encoded data removed]",
      "text/plain": [
       "<Figure size 432x288 with 1 Axes>"
      ]
     },
     "metadata": {
      "needs_background": "light"
     },
     "output_type": "display_data"
    }
   ],
   "source": [
    "plt.plot(temps)\n",
    "plt.plot(winds)\n",
    "plt.show()"
   ]
  },
  {
   "cell_type": "code",
   "execution_count": null,
   "id": "6c2ef13e",
   "metadata": {},
   "outputs": [],
   "source": []
  }
 ],
 "metadata": {
  "kernelspec": {
   "display_name": "Python 3",
   "language": "python",
   "name": "python3"
  },
  "language_info": {
   "codemirror_mode": {
    "name": "ipython",
    "version": 3
   },
   "file_extension": ".py",
   "mimetype": "text/x-python",
   "name": "python",
   "nbconvert_exporter": "python",
   "pygments_lexer": "ipython3",
   "version": "3.9.1"
  }
 },
 "nbformat": 4,
 "nbformat_minor": 5
}
