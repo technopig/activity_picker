{
 "cells": [
  {
   "cell_type": "code",
   "execution_count": 2,
   "id": "078ffa78",
   "metadata": {},
   "outputs": [],
   "source": [
    "import requests\n",
    "import json\n",
    "from datetime import date, timedelta, datetime\n",
    "from matplotlib import pyplot as plt"
   ]
  },
  {
   "cell_type": "code",
   "execution_count": 4,
   "id": "ba8c742c",
   "metadata": {},
   "outputs": [],
   "source": [
    "ELDORA_COORDINATES = \"39.93646991379455,-105.58600635354678\"\n",
    "API_URL = \"https://api.weather.gov/points/\"\n",
    "ELDORA_URL = API_URL + ELDORA_COORDINATES"
   ]
  },
  {
   "cell_type": "code",
   "execution_count": 5,
   "id": "d1dc146f",
   "metadata": {},
   "outputs": [],
   "source": [
    "%matplotlib inline"
   ]
  },
  {
   "cell_type": "code",
   "execution_count": 8,
   "id": "232e652e",
   "metadata": {},
   "outputs": [
    {
     "name": "stdout",
     "output_type": "stream",
     "text": [
      "https://api.weather.gov/gridpoints/BOU/42,71/forecast/hourly\n"
     ]
    }
   ],
   "source": [
    "overview_page = json.loads(requests.get(ELDORA_URL).text)\n",
    "hourly_target_url = json.dumps(overview_page['properties']['forecastHourly'], indent=4)[1:-1]\n",
    "forecast_page = json.loads(requests.get(hourly_target_url).text)\n",
    "print(hourly_target_url)\n",
    "hourly_forecast = forecast_page['properties']['periods']"
   ]
  },
  {
   "cell_type": "code",
   "execution_count": 144,
   "id": "737844ff",
   "metadata": {},
   "outputs": [],
   "source": [
    "tomorrow = datetime.today() + timedelta(days=1)"
   ]
  },
  {
   "cell_type": "code",
   "execution_count": 152,
   "id": "3831bc69",
   "metadata": {},
   "outputs": [
    {
     "name": "stdout",
     "output_type": "stream",
     "text": [
      "Daytime Hours: 12\n",
      "\n",
      "Total Sun: 19 \t\t- max is 2*daytime hours - 24\n",
      "Total Rain: 0 \t\t- max is 48\n",
      "Total Snow: 0 \t\t- max is 48\n",
      "Total Clear: 18 \t- max is 24\n",
      "\n",
      "Sun Score: 0.79 \t- max is 1\n",
      "Clear Score: 0.75 \t- max is 1\n",
      "Rain Score: 0.0 \t- max is 1\n",
      "Snow Score: 0.0 \t- max is 1\n",
      "\n",
      "Min/Max temp: 7/40\n",
      "Max wind: 10\n",
      "\n",
      "Composite score (no temps or wind): 0.92 \t- range is [0,1]\n"
     ]
    }
   ],
   "source": [
    "temps = []\n",
    "winds = []\n",
    "daytime_hours = 0\n",
    "total_sun = 0\n",
    "total_snow = 0\n",
    "total_rain = 0\n",
    "total_clear = 0\n",
    "for h in hourly_forecast:\n",
    "    hour_dt = datetime.strptime(h['startTime'][:-9], '%Y-%m-%dT%H:%M')\n",
    "    if hour_dt.date() == tomorrow.date():\n",
    "        temps.append(int(h['temperature']))\n",
    "        winds.append(int(h['windSpeed'].split()[0]))\n",
    "        \n",
    "#         print(hour_dt)\n",
    "#         print(f\"Temperature: {h['temperature']}\")\n",
    "#         print(f\"Wind Speed: {h['windSpeed'].split()[0]}\")\n",
    "#         print(f\"Daytime: {h['isDaytime']}\")\n",
    "#         print(f\"Short Forecast: {h['shortForecast']}\")\n",
    "        \n",
    "        if(bool(h['isDaytime'])):\n",
    "            daytime_hours += 1\n",
    "        \n",
    "        sf = h['shortForecast']\n",
    "        if (\"Sunny\" in sf):\n",
    "            total_sun += 1\n",
    "            total_clear += 1\n",
    "            if ('Sunny' == sf):\n",
    "                total_sun += 1\n",
    "        elif (\"Clear\" in sf):\n",
    "            total_clear += 1\n",
    "        elif (\"Snow\" in sf):\n",
    "            total_snow += 1\n",
    "            if (\"Chance\" not in sf):\n",
    "                total_snow += 1\n",
    "        elif (\"Rain\" in sf):\n",
    "            total_rain += 1\n",
    "            if (\"Chance\" not in sf):\n",
    "                total_rain += 1\n",
    "        \n",
    "#         print(h)\n",
    "#         print('\\n')\n",
    "\n",
    "total_precip = total_rain + total_snow  \n",
    "print(f\"Daytime Hours: {daytime_hours}\")\n",
    "print()\n",
    "print(f\"Total Sun: {total_sun} \\t\\t- max is 2*daytime hours - {2*daytime_hours}\")\n",
    "print(f\"Total Rain: {total_rain} \\t\\t- max is 48\")\n",
    "print(f\"Total Snow: {total_snow} \\t\\t- max is 48\")\n",
    "print(f\"Total Clear: {total_clear} \\t- max is 24\")\n",
    "print()\n",
    "print(f\"Sun Score: {round(total_sun/daytime_hours/2,2)} \\t- max is 1\")\n",
    "print(f\"Clear Score: {round(total_clear/24,2)} \\t- max is 1\")\n",
    "print(f\"Rain Score: {round(total_rain/48,2)} \\t- max is 1\")\n",
    "print(f\"Snow Score: {round(total_snow/48,2)} \\t- max is 1\")\n",
    "print()\n",
    "print(f\"Min/Max temp: {min(temps)}/{max(temps)}\")\n",
    "print(f\"Max wind: {max(winds)}\")\n",
    "print()\n",
    "print(f\"Composite score (no temps or wind): {round(((total_sun + total_clear - total_rain - total_snow)/(24 + daytime_hours*2)+2)/3,2)} \\t- range is [0,1]\")"
   ]
  },
  {
   "cell_type": "code",
   "execution_count": 153,
   "id": "a8d21c70",
   "metadata": {},
   "outputs": [
    {
     "data": {
      "image/png": "[encoded data removed]",
      "text/plain": [
       "<Figure size 432x288 with 1 Axes>"
      ]
     },
     "metadata": {
      "needs_background": "light"
     },
     "output_type": "display_data"
    }
   ],
   "source": [
    "plt.plot(temps)\n",
    "plt.plot(winds)\n",
    "plt.show()"
   ]
  },
  {
   "cell_type": "code",
   "execution_count": null,
   "id": "ff03801b",
   "metadata": {},
   "outputs": [],
   "source": []
  }
 ],
 "metadata": {
  "kernelspec": {
   "display_name": "Python 3",
   "language": "python",
   "name": "python3"
  },
  "language_info": {
   "codemirror_mode": {
    "name": "ipython",
    "version": 3
   },
   "file_extension": ".py",
   "mimetype": "text/x-python",
   "name": "python",
   "nbconvert_exporter": "python",
   "pygments_lexer": "ipython3",
   "version": "3.9.1"
  }
 },
 "nbformat": 4,
 "nbformat_minor": 5
}
